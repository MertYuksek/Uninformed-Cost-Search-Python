{
  "nbformat": 4,
  "nbformat_minor": 0,
  "metadata": {
    "colab": {
      "name": "Colaboratory'ye Hoş Geldiniz adlı not defterinin kopyası",
      "provenance": [],
      "collapsed_sections": [],
      "include_colab_link": true
    },
    "kernelspec": {
      "display_name": "Python 3",
      "name": "python3"
    },
    "accelerator": "GPU"
  },
  "cells": [
    {
      "cell_type": "markdown",
      "metadata": {
        "id": "view-in-github",
        "colab_type": "text"
      },
      "source": [
        "<a href=\"https://colab.research.google.com/github/MertYuksek/Uninformed-Cost-Search-Python/blob/main/UCSFindPath.ipynb\" target=\"_parent\"><img src=\"https://colab.research.google.com/assets/colab-badge.svg\" alt=\"Open In Colab\"/></a>"
      ]
    },
    {
      "cell_type": "code",
      "metadata": {
        "id": "s_oICJ6uDkvU"
      },
      "source": [
        "import numpy as np\n",
        "import pandas as pd\n",
        "import sys"
      ],
      "execution_count": 5,
      "outputs": []
    },
    {
      "cell_type": "code",
      "metadata": {
        "id": "QsS6U8cFZ_t4"
      },
      "source": [
        "class CityNotFoundError(Exception):\n",
        "    def __init__(self, city):\n",
        "        print(\"%s does not exist\" % city)"
      ],
      "execution_count": 6,
      "outputs": []
    },
    {
      "cell_type": "code",
      "metadata": {
        "id": "AFku2h88hiYy"
      },
      "source": [
        "import queue as Q\n",
        "\n",
        "def search(graph, start, end):\n",
        "   \n",
        "    queue = Q.PriorityQueue()\n",
        "    queue.put((0, [start]))\n",
        "    \n",
        "    while not queue.empty():\n",
        "        node = queue.get()\n",
        "        current = node[1][len(node[1]) - 1]\n",
        "        \n",
        "        if end in node[1]:\n",
        "            print(\"Path found: \" + str(node[1]) + \", Cost = \" + str(node[0]))\n",
        "            break\n",
        "        \n",
        "        cost = node[0]\n",
        "        for neighbor in graph[current]:\n",
        "            temp = node[1][:]\n",
        "            temp.append(neighbor)\n",
        "            queue.put((cost + graph[current][neighbor], temp))\n",
        "\n",
        "\n",
        "def  build_graph(path):\n",
        "    \n",
        "    dataset = pd.read_csv(path)\n",
        "    cities = dataset.iloc[:, :-1].values\n",
        "    costs = dataset.iloc[:, -1].values\n",
        "\n",
        "    graph = {}\n",
        "          \n",
        "    uniqueCities = np.unique(cities)\n",
        "\n",
        "    for city in range(len(uniqueCities)):\n",
        "      \n",
        "      graph[uniqueCities[city]] = {}\n",
        "\n",
        "      for rowIndx in range(cities.shape[0]):\n",
        "\n",
        "        if uniqueCities[city] in cities[rowIndx,  0]:\n",
        "          graph[uniqueCities[city]][cities[rowIndx, 1]] = int(costs[rowIndx])\n",
        "\n",
        "        if uniqueCities[city] in cities[rowIndx,  1]:\n",
        "          graph[uniqueCities[city]][cities[rowIndx, 0]] = int(costs[rowIndx])\n",
        "        \n",
        "    return graph    "
      ],
      "execution_count": 7,
      "outputs": []
    },
    {
      "cell_type": "code",
      "metadata": {
        "id": "6YBj0PMHV2-X",
        "colab": {
          "base_uri": "https://localhost:8080/"
        },
        "outputId": "59144b4a-e6e9-479f-df5c-20bca28621f0"
      },
      "source": [
        "def main():\n",
        "\n",
        "  exitPathEnter = ''\n",
        "  while exitPathEnter != '-1' : \n",
        "    try:\n",
        "        \n",
        "        print(\"Please enter the file path : \")\n",
        "        path = input()\n",
        "        graph =  build_graph(path)\n",
        "        break\n",
        "\n",
        "    except FileNotFoundError :\n",
        "      print(\"File is not found.\")\n",
        "      print('If you want to exist please enter -1, If you want to continue enter 0')\n",
        "      exitPathEnter = input()\n",
        "      if(exitPathEnter == '-1'):\n",
        "        return\n",
        "      continue\n",
        "\n",
        "  exitCityEnter = ''\n",
        "  while exitCityEnter != '-1' : \n",
        "\n",
        "    print(\"Please enter the start city : \")\n",
        "    start = input()\n",
        "\n",
        "    print(\"Please enter the end city : \")\n",
        "    end = input()\n",
        "\n",
        "    try:\n",
        "      \n",
        "        if start not in graph:\n",
        "          raise CityNotFoundError(start)\n",
        "        if end not in graph:\n",
        "          raise CityNotFoundError(end)\n",
        "      \n",
        "        search(graph, start, end)\n",
        "\n",
        "        break\n",
        "    \n",
        "    except:\n",
        "      print('If you want to exist please enter -1, If you want to continue enter 0')\n",
        "      exitCityEnter = input()\n",
        "      continue\n",
        "    \n",
        "if __name__ == \"__main__\":\n",
        "    main()"
      ],
      "execution_count": 8,
      "outputs": [
        {
          "name": "stdout",
          "output_type": "stream",
          "text": [
            "Please enter the file path : \n",
            "ci\n",
            "File is not found.\n",
            "If you want to exist please enter -1, If you want to continue enter 0\n",
            "-1\n"
          ]
        }
      ]
    }
  ]
}